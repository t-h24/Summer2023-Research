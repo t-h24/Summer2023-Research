{
 "cells": [
  {
   "cell_type": "code",
   "execution_count": null,
   "metadata": {},
   "outputs": [],
   "source": [
    "import matplotlib.pyplot as plot\n",
    "\n",
    "EXPORT_DIR = \"exports/\""
   ]
  },
  {
   "cell_type": "markdown",
   "metadata": {},
   "source": [
    "Plot statistics about a query set."
   ]
  },
  {
   "cell_type": "code",
   "execution_count": null,
   "metadata": {},
   "outputs": [],
   "source": [
    "TYPE = ''\n",
    "\n",
    "def plot_stats():\n",
    "    with open(EXPORT_DIR + 'stats_' + TYPE + '.txt', 'r') as f:\n",
    "        lines = f.readlines()\n",
    "        mean_data = [float(x) for x in lines[0].strip().split(' ')]\n",
    "        median_data = [float(x) for x in lines[1].strip().split(' ')]\n",
    "        std_data = [float(x) for x in lines[2].strip().split(' ')]\n",
    "        min_data = [float(x) for x in lines[3].strip().split(' ')]\n",
    "        max_data = [float(x) for x in lines[4].strip().split(' ')]\n",
    "\n",
    "    # Create a figure and a 2x3 grid of subplots\n",
    "    fig, axs = plot.subplots(2, 3, figsize=(15, 10))\n",
    "\n",
    "    # Create histograms in the subplots\n",
    "    axs[0, 0].hist(mean_data, bins=100)\n",
    "    axs[0, 0].set_title('Mean')\n",
    "\n",
    "    axs[0, 1].hist(median_data, bins=100)\n",
    "    axs[0, 1].set_title('Median')\n",
    "\n",
    "    axs[0, 2].hist(std_data, bins=100)\n",
    "    axs[0, 2].set_title('Standard Deviation')\n",
    "\n",
    "    axs[1, 0].hist(min_data, bins=100)\n",
    "    axs[1, 0].set_title('Minimum')\n",
    "\n",
    "    axs[1, 1].hist(max_data, bins=100)\n",
    "    axs[1, 1].set_title('Maximum')\n",
    "\n",
    "    # Remove unused subplot\n",
    "    fig.delaxes(axs[1,2])\n",
    "\n",
    "    # Show the figure\n",
    "    plot.tight_layout()\n",
    "    plot.show()\n",
    "\n",
    "plot_stats()"
   ]
  }
 ],
 "metadata": {
  "kernelspec": {
   "display_name": "Python 3",
   "language": "python",
   "name": "python3"
  },
  "language_info": {
   "codemirror_mode": {
    "name": "ipython",
    "version": 3
   },
   "file_extension": ".py",
   "mimetype": "text/x-python",
   "name": "python",
   "nbconvert_exporter": "python",
   "pygments_lexer": "ipython3",
   "version": "3.10.4"
  }
 },
 "nbformat": 4,
 "nbformat_minor": 2
}
