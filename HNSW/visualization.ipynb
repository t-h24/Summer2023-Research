{
 "cells": [
  {
   "cell_type": "code",
   "execution_count": 1,
   "metadata": {},
   "outputs": [],
   "source": [
    "import numpy as np\n",
    "import matplotlib.pyplot as plot"
   ]
  },
  {
   "cell_type": "code",
   "execution_count": null,
   "metadata": {},
   "outputs": [],
   "source": [
    "# Read from graph.txt\n",
    "PLOT_EDGES = True\n",
    "\n",
    "mode = -1\n",
    "level = -1\n",
    "nodes_by_level = []\n",
    "connections_by_level = []\n",
    "with open(\"runs/graph.txt\", \"r\") as f:\n",
    "    for line in f.readlines():\n",
    "        line = line.strip()\n",
    "        if line == \"Nodes\":\n",
    "            mode = 0\n",
    "            level = -1\n",
    "            continue\n",
    "        elif line == \"Edges\" and PLOT_EDGES:\n",
    "            mode = 1\n",
    "            level = -1\n",
    "            continue\n",
    "        \n",
    "        if mode == 0:\n",
    "            if line.startswith(\"Level\"):\n",
    "                nodes_by_level.append({})\n",
    "                level = int(line.split(\" \")[1])\n",
    "            else:\n",
    "                nodes = [float(x) for x in line.split(\":\")[1].split(\",\")]\n",
    "                node_id = int(line.split(\":\")[0])\n",
    "                nodes_by_level[level][node_id] = nodes\n",
    "        elif mode == 1:\n",
    "            if line.startswith(\"Level\"):\n",
    "                connections_by_level.append({})\n",
    "                level = int(line.split(\" \")[1])\n",
    "            else:\n",
    "                if line[-1] == \",\":\n",
    "                    line = line[:-1]\n",
    "                connections = [int(x) for x in line.split(\":\")[1].split(\",\")]\n",
    "                node_id = int(line.split(\":\")[0])\n",
    "                connections_by_level[level][node_id] = connections\n",
    "\n",
    "# Plot nodes as 2D points by level\n",
    "for i in range(len(nodes_by_level)):\n",
    "    layer_nodes = nodes_by_level[i]\n",
    "    nodes = np.array(list(layer_nodes.values()))\n",
    "    plot.title(\"Level \" + str(i))\n",
    "    plot.scatter(nodes[:, 0], nodes[:, 1])\n",
    "\n",
    "    if i == 0:\n",
    "        min_x, max_x = plot.gca().get_xlim()\n",
    "        min_y, max_y = plot.gca().get_ylim()\n",
    "    else:\n",
    "        plot.xlim(min_x, max_x)\n",
    "        plot.ylim(min_y, max_y)\n",
    "\n",
    "    # Plot edges\n",
    "    connections = connections_by_level[i]\n",
    "    for node_id in connections:\n",
    "        for connection in connections[node_id]:\n",
    "            width, height = max_x - min_x, max_y - min_y\n",
    "            plot.arrow(layer_nodes[node_id][0], layer_nodes[node_id][1], layer_nodes[connection][0] - layer_nodes[node_id][0], layer_nodes[connection][1] - layer_nodes[node_id][1],\n",
    "                       color='green', alpha=0.3, head_width=width / 35, head_length=height / 35, length_includes_head=True)\n",
    "\n",
    "    # Export to png\n",
    "    plot.savefig(\"runs/Level \" + str(i) + \".png\")\n",
    "    plot.show()"
   ]
  }
 ],
 "metadata": {
  "kernelspec": {
   "display_name": "Python 3 (ipykernel)",
   "language": "python",
   "name": "python3"
  },
  "language_info": {
   "codemirror_mode": {
    "name": "ipython",
    "version": 3
   },
   "file_extension": ".py",
   "mimetype": "text/x-python",
   "name": "python",
   "nbconvert_exporter": "python",
   "pygments_lexer": "ipython3",
   "version": "3.10.4"
  },
  "orig_nbformat": 4
 },
 "nbformat": 4,
 "nbformat_minor": 2
}
